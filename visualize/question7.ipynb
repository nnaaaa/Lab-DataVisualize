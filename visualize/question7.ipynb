{
 "cells": [
  {
   "attachments": {},
   "cell_type": "markdown",
   "metadata": {},
   "source": [
    "# Import libraries"
   ]
  },
  {
   "cell_type": "code",
   "execution_count": 1,
   "metadata": {},
   "outputs": [],
   "source": [
    "import pandas as pd\n",
    "import numpy as np\n",
    "import matplotlib.pyplot as plt"
   ]
  },
  {
   "attachments": {},
   "cell_type": "markdown",
   "metadata": {},
   "source": [
    "# Read data"
   ]
  },
  {
   "cell_type": "code",
   "execution_count": 2,
   "metadata": {},
   "outputs": [
    {
     "data": {
      "text/html": [
       "<div>\n",
       "<style scoped>\n",
       "    .dataframe tbody tr th:only-of-type {\n",
       "        vertical-align: middle;\n",
       "    }\n",
       "\n",
       "    .dataframe tbody tr th {\n",
       "        vertical-align: top;\n",
       "    }\n",
       "\n",
       "    .dataframe thead th {\n",
       "        text-align: right;\n",
       "    }\n",
       "</style>\n",
       "<table border=\"1\" class=\"dataframe\">\n",
       "  <thead>\n",
       "    <tr style=\"text-align: right;\">\n",
       "      <th></th>\n",
       "      <th>Country</th>\n",
       "      <th>Date</th>\n",
       "      <th>TotalCases</th>\n",
       "      <th>NewCases</th>\n",
       "      <th>TotalDeaths</th>\n",
       "      <th>NewDeaths</th>\n",
       "      <th>TotalRecovered</th>\n",
       "      <th>NewRecovered</th>\n",
       "      <th>ActiveCases</th>\n",
       "      <th>Serious,Critical</th>\n",
       "      <th>TotalTests</th>\n",
       "      <th>Population</th>\n",
       "      <th>Continent</th>\n",
       "      <th>1 Caseevery X ppl</th>\n",
       "    </tr>\n",
       "  </thead>\n",
       "  <tbody>\n",
       "    <tr>\n",
       "      <th>0</th>\n",
       "      <td>Afghanistan</td>\n",
       "      <td>2023-03-02</td>\n",
       "      <td>209359</td>\n",
       "      <td>19</td>\n",
       "      <td>7896.0</td>\n",
       "      <td>0.0</td>\n",
       "      <td>191166.0</td>\n",
       "      <td>10</td>\n",
       "      <td>10297.0</td>\n",
       "      <td>45</td>\n",
       "      <td>1201475.0</td>\n",
       "      <td>40754388</td>\n",
       "      <td>Asia</td>\n",
       "      <td>195</td>\n",
       "    </tr>\n",
       "    <tr>\n",
       "      <th>1</th>\n",
       "      <td>Afghanistan</td>\n",
       "      <td>2023-03-03</td>\n",
       "      <td>209362</td>\n",
       "      <td>3</td>\n",
       "      <td>7896.0</td>\n",
       "      <td>0.0</td>\n",
       "      <td>191170.0</td>\n",
       "      <td>4</td>\n",
       "      <td>10296.0</td>\n",
       "      <td>45</td>\n",
       "      <td>1201744.0</td>\n",
       "      <td>40754388</td>\n",
       "      <td>Asia</td>\n",
       "      <td>195</td>\n",
       "    </tr>\n",
       "    <tr>\n",
       "      <th>2</th>\n",
       "      <td>Afghanistan</td>\n",
       "      <td>2023-03-04</td>\n",
       "      <td>209370</td>\n",
       "      <td>4</td>\n",
       "      <td>7896.0</td>\n",
       "      <td>0.0</td>\n",
       "      <td>191181.0</td>\n",
       "      <td>7</td>\n",
       "      <td>10293.0</td>\n",
       "      <td>45</td>\n",
       "      <td>1202018.0</td>\n",
       "      <td>40754388</td>\n",
       "      <td>Asia</td>\n",
       "      <td>195</td>\n",
       "    </tr>\n",
       "    <tr>\n",
       "      <th>3</th>\n",
       "      <td>Afghanistan</td>\n",
       "      <td>2023-03-05</td>\n",
       "      <td>209390</td>\n",
       "      <td>20</td>\n",
       "      <td>7896.0</td>\n",
       "      <td>0.0</td>\n",
       "      <td>191212.0</td>\n",
       "      <td>31</td>\n",
       "      <td>10282.0</td>\n",
       "      <td>45</td>\n",
       "      <td>1202290.0</td>\n",
       "      <td>40754388</td>\n",
       "      <td>Asia</td>\n",
       "      <td>195</td>\n",
       "    </tr>\n",
       "    <tr>\n",
       "      <th>4</th>\n",
       "      <td>Afghanistan</td>\n",
       "      <td>2023-03-06</td>\n",
       "      <td>209394</td>\n",
       "      <td>24</td>\n",
       "      <td>7896.0</td>\n",
       "      <td>0.0</td>\n",
       "      <td>191233.0</td>\n",
       "      <td>52</td>\n",
       "      <td>10265.0</td>\n",
       "      <td>45</td>\n",
       "      <td>1202290.0</td>\n",
       "      <td>40754388</td>\n",
       "      <td>Asia</td>\n",
       "      <td>195</td>\n",
       "    </tr>\n",
       "  </tbody>\n",
       "</table>\n",
       "</div>"
      ],
      "text/plain": [
       "       Country        Date  TotalCases  NewCases  TotalDeaths  NewDeaths  \\\n",
       "0  Afghanistan  2023-03-02      209359        19       7896.0        0.0   \n",
       "1  Afghanistan  2023-03-03      209362         3       7896.0        0.0   \n",
       "2  Afghanistan  2023-03-04      209370         4       7896.0        0.0   \n",
       "3  Afghanistan  2023-03-05      209390        20       7896.0        0.0   \n",
       "4  Afghanistan  2023-03-06      209394        24       7896.0        0.0   \n",
       "\n",
       "   TotalRecovered  NewRecovered  ActiveCases  Serious,Critical  TotalTests  \\\n",
       "0        191166.0            10      10297.0                45   1201475.0   \n",
       "1        191170.0             4      10296.0                45   1201744.0   \n",
       "2        191181.0             7      10293.0                45   1202018.0   \n",
       "3        191212.0            31      10282.0                45   1202290.0   \n",
       "4        191233.0            52      10265.0                45   1202290.0   \n",
       "\n",
       "   Population Continent 1 Caseevery X ppl  \n",
       "0    40754388      Asia               195  \n",
       "1    40754388      Asia               195  \n",
       "2    40754388      Asia               195  \n",
       "3    40754388      Asia               195  \n",
       "4    40754388      Asia               195  "
      ]
     },
     "execution_count": 2,
     "metadata": {},
     "output_type": "execute_result"
    }
   ],
   "source": [
    "covid_df = pd.read_csv('../data/final_data.csv')\n",
    "covid_df.head()"
   ]
  },
  {
   "attachments": {},
   "cell_type": "markdown",
   "metadata": {},
   "source": [
    "# Analytics for data visualization"
   ]
  },
  {
   "attachments": {},
   "cell_type": "markdown",
   "metadata": {},
   "source": [
    "### **Question 7 : Is there a correlation between the number of infections and the number of deaths in each country?**"
   ]
  },
  {
   "cell_type": "code",
   "execution_count": 3,
   "metadata": {},
   "outputs": [],
   "source": [
    "last_day = covid_df[covid_df['Date'] == '2023-03-10']"
   ]
  },
  {
   "cell_type": "code",
   "execution_count": 4,
   "metadata": {},
   "outputs": [
    {
     "data": {
      "text/plain": [
       "0.8754668494174205"
      ]
     },
     "execution_count": 4,
     "metadata": {},
     "output_type": "execute_result"
    }
   ],
   "source": [
    "# calculate the correlation between the number of cases and the number of deaths\n",
    "correlation = last_day['TotalDeaths'].corr(last_day['TotalCases'])\n",
    "correlation"
   ]
  },
  {
   "attachments": {},
   "cell_type": "markdown",
   "metadata": {},
   "source": [
    "- The correlation between the number of cases and the number of deaths is 0.875. This means that the number of infections and the number of deaths are highly correlated. To more intuitive, we use scatter plot for visulization."
   ]
  },
  {
   "cell_type": "code",
   "execution_count": 5,
   "metadata": {},
   "outputs": [
    {
     "data": {
      "image/png": "[encoded data removed]",
      "text/plain": [
       "<Figure size 640x480 with 1 Axes>"
      ]
     },
     "metadata": {},
     "output_type": "display_data"
    }
   ],
   "source": [
    "# visualize the data\n",
    "plt.scatter(last_day['TotalCases'], last_day['TotalDeaths'])\n",
    "plt.xlabel('Total Cases')   \n",
    "plt.ylabel('Total Deaths')\n",
    "plt.title('Correlation between Total Cases vs Total Deaths')\n",
    "plt.show()"
   ]
  },
  {
   "attachments": {},
   "cell_type": "markdown",
   "metadata": {},
   "source": [
    "- Comments:\n",
    "    - The number of infections and the number of deaths are highly correlated. It means if the number of infections is high, the number of deaths is also high.\n",
    "    - We have outlier in the data. The number of deaths and the number of infections are significant high, with number of deaths nearly 120000 and number of cases above 100000000 cases until 03.10.2023."
   ]
  },
  {
   "cell_type": "code",
   "execution_count": 6,
   "metadata": {},
   "outputs": [
    {
     "data": {
      "text/html": [
       "<div>\n",
       "<style scoped>\n",
       "    .dataframe tbody tr th:only-of-type {\n",
       "        vertical-align: middle;\n",
       "    }\n",
       "\n",
       "    .dataframe tbody tr th {\n",
       "        vertical-align: top;\n",
       "    }\n",
       "\n",
       "    .dataframe thead th {\n",
       "        text-align: right;\n",
       "    }\n",
       "</style>\n",
       "<table border=\"1\" class=\"dataframe\">\n",
       "  <thead>\n",
       "    <tr style=\"text-align: right;\">\n",
       "      <th></th>\n",
       "      <th>Country</th>\n",
       "      <th>Date</th>\n",
       "      <th>TotalCases</th>\n",
       "      <th>NewCases</th>\n",
       "      <th>TotalDeaths</th>\n",
       "      <th>NewDeaths</th>\n",
       "      <th>TotalRecovered</th>\n",
       "      <th>NewRecovered</th>\n",
       "      <th>ActiveCases</th>\n",
       "      <th>Serious,Critical</th>\n",
       "      <th>TotalTests</th>\n",
       "      <th>Population</th>\n",
       "      <th>Continent</th>\n",
       "      <th>1 Caseevery X ppl</th>\n",
       "    </tr>\n",
       "  </thead>\n",
       "  <tbody>\n",
       "    <tr>\n",
       "      <th>1340</th>\n",
       "      <td>USA</td>\n",
       "      <td>2023-03-10</td>\n",
       "      <td>105599065</td>\n",
       "      <td>7451</td>\n",
       "      <td>1148765.0</td>\n",
       "      <td>50.0</td>\n",
       "      <td>103126259.0</td>\n",
       "      <td>42429</td>\n",
       "      <td>1324041.0</td>\n",
       "      <td>2365</td>\n",
       "      <td>1.168586e+09</td>\n",
       "      <td>334805269</td>\n",
       "      <td>North America</td>\n",
       "      <td>3</td>\n",
       "    </tr>\n",
       "  </tbody>\n",
       "</table>\n",
       "</div>"
      ],
      "text/plain": [
       "     Country        Date  TotalCases  NewCases  TotalDeaths  NewDeaths  \\\n",
       "1340     USA  2023-03-10   105599065      7451    1148765.0       50.0   \n",
       "\n",
       "      TotalRecovered  NewRecovered  ActiveCases  Serious,Critical  \\\n",
       "1340     103126259.0         42429    1324041.0              2365   \n",
       "\n",
       "        TotalTests  Population      Continent 1 Caseevery X ppl  \n",
       "1340  1.168586e+09   334805269  North America                 3  "
      ]
     },
     "execution_count": 6,
     "metadata": {},
     "output_type": "execute_result"
    }
   ],
   "source": [
    "outliers = last_day[last_day['TotalCases'] > 100000000]\n",
    "outliers"
   ]
  },
  {
   "attachments": {},
   "cell_type": "markdown",
   "metadata": {},
   "source": [
    "- And the outlier is the USA. "
   ]
  },
  {
   "cell_type": "code",
   "execution_count": null,
   "metadata": {},
   "outputs": [],
   "source": []
  }
 ],
 "metadata": {
  "kernelspec": {
   "display_name": "min_ds-env",
   "language": "python",
   "name": "python3"
  },
  "language_info": {
   "codemirror_mode": {
    "name": "ipython",
    "version": 3
   },
   "file_extension": ".py",
   "mimetype": "text/x-python",
   "name": "python",
   "nbconvert_exporter": "python",
   "pygments_lexer": "ipython3",
   "version": "3.8.8"
  },
  "orig_nbformat": 4
 },
 "nbformat": 4,
 "nbformat_minor": 2
}
